{
 "cells": [
  {
   "cell_type": "markdown",
   "metadata": {},
   "source": [
    "# Run MariaDB with Docker"
   ]
  },
  {
   "cell_type": "code",
   "execution_count": null,
   "metadata": {},
   "outputs": [],
   "source": [
    "!docker run --name my-mariadb -e MYSQL_ROOT_PASSWORD=1234 -p 3306:3306 -d mariadb:10.5"
   ]
  },
  {
   "cell_type": "code",
   "execution_count": 26,
   "metadata": {},
   "outputs": [
    {
     "name": "stdout",
     "output_type": "stream",
     "text": [
      "Successfully connected to MariaDB\n",
      "Query executed successfully\n",
      "Query executed successfully\n",
      "Query executed successfully\n",
      "\n",
      "Employee data:\n"
     ]
    },
    {
     "name": "stderr",
     "output_type": "stream",
     "text": [
      "C:\\Users\\Sakib\\AppData\\Local\\Temp\\ipykernel_8564\\853073462.py:64: UserWarning: pandas only supports SQLAlchemy connectable (engine/connection) or database string URI or sqlite3 DBAPI2 connection. Other DBAPI2 objects are not tested. Please consider using SQLAlchemy.\n",
      "  return pd.read_sql(query, connection)\n"
     ]
    },
    {
     "data": {
      "text/html": [
       "<div>\n",
       "<style scoped>\n",
       "    .dataframe tbody tr th:only-of-type {\n",
       "        vertical-align: middle;\n",
       "    }\n",
       "\n",
       "    .dataframe tbody tr th {\n",
       "        vertical-align: top;\n",
       "    }\n",
       "\n",
       "    .dataframe thead th {\n",
       "        text-align: right;\n",
       "    }\n",
       "</style>\n",
       "<table border=\"1\" class=\"dataframe\">\n",
       "  <thead>\n",
       "    <tr style=\"text-align: right;\">\n",
       "      <th></th>\n",
       "      <th>id</th>\n",
       "      <th>name</th>\n",
       "      <th>age</th>\n",
       "      <th>salary</th>\n",
       "    </tr>\n",
       "  </thead>\n",
       "  <tbody>\n",
       "    <tr>\n",
       "      <th>0</th>\n",
       "      <td>1</td>\n",
       "      <td>John Doe</td>\n",
       "      <td>30</td>\n",
       "      <td>50000.0</td>\n",
       "    </tr>\n",
       "    <tr>\n",
       "      <th>1</th>\n",
       "      <td>2</td>\n",
       "      <td>Jane Smith</td>\n",
       "      <td>25</td>\n",
       "      <td>45000.0</td>\n",
       "    </tr>\n",
       "    <tr>\n",
       "      <th>2</th>\n",
       "      <td>3</td>\n",
       "      <td>Bob Johnson</td>\n",
       "      <td>35</td>\n",
       "      <td>60000.0</td>\n",
       "    </tr>\n",
       "  </tbody>\n",
       "</table>\n",
       "</div>"
      ],
      "text/plain": [
       "   id         name  age   salary\n",
       "0   1     John Doe   30  50000.0\n",
       "1   2   Jane Smith   25  45000.0\n",
       "2   3  Bob Johnson   35  60000.0"
      ]
     },
     "metadata": {},
     "output_type": "display_data"
    },
    {
     "name": "stdout",
     "output_type": "stream",
     "text": [
      "Query executed successfully\n",
      "\n",
      "Updated employee data:\n"
     ]
    },
    {
     "name": "stderr",
     "output_type": "stream",
     "text": [
      "C:\\Users\\Sakib\\AppData\\Local\\Temp\\ipykernel_8564\\853073462.py:64: UserWarning: pandas only supports SQLAlchemy connectable (engine/connection) or database string URI or sqlite3 DBAPI2 connection. Other DBAPI2 objects are not tested. Please consider using SQLAlchemy.\n",
      "  return pd.read_sql(query, connection)\n"
     ]
    },
    {
     "data": {
      "text/html": [
       "<div>\n",
       "<style scoped>\n",
       "    .dataframe tbody tr th:only-of-type {\n",
       "        vertical-align: middle;\n",
       "    }\n",
       "\n",
       "    .dataframe tbody tr th {\n",
       "        vertical-align: top;\n",
       "    }\n",
       "\n",
       "    .dataframe thead th {\n",
       "        text-align: right;\n",
       "    }\n",
       "</style>\n",
       "<table border=\"1\" class=\"dataframe\">\n",
       "  <thead>\n",
       "    <tr style=\"text-align: right;\">\n",
       "      <th></th>\n",
       "      <th>id</th>\n",
       "      <th>name</th>\n",
       "      <th>age</th>\n",
       "      <th>salary</th>\n",
       "    </tr>\n",
       "  </thead>\n",
       "  <tbody>\n",
       "    <tr>\n",
       "      <th>0</th>\n",
       "      <td>1</td>\n",
       "      <td>John Doe</td>\n",
       "      <td>30</td>\n",
       "      <td>55000.0</td>\n",
       "    </tr>\n",
       "    <tr>\n",
       "      <th>1</th>\n",
       "      <td>2</td>\n",
       "      <td>Jane Smith</td>\n",
       "      <td>25</td>\n",
       "      <td>45000.0</td>\n",
       "    </tr>\n",
       "    <tr>\n",
       "      <th>2</th>\n",
       "      <td>3</td>\n",
       "      <td>Bob Johnson</td>\n",
       "      <td>35</td>\n",
       "      <td>60000.0</td>\n",
       "    </tr>\n",
       "  </tbody>\n",
       "</table>\n",
       "</div>"
      ],
      "text/plain": [
       "   id         name  age   salary\n",
       "0   1     John Doe   30  55000.0\n",
       "1   2   Jane Smith   25  45000.0\n",
       "2   3  Bob Johnson   35  60000.0"
      ]
     },
     "metadata": {},
     "output_type": "display_data"
    }
   ],
   "source": [
    "# Import required libraries\n",
    "import mysql.connector\n",
    "from mysql.connector import Error\n",
    "import pandas as pd\n",
    "\n",
    "# Function to create database connection\n",
    "def create_connection():\n",
    "    try:\n",
    "        connection = mysql.connector.connect(\n",
    "            host='localhost',\n",
    "            port=3306,\n",
    "            user='root',\n",
    "            password='1234'\n",
    "        )\n",
    "        print(\"Successfully connected to MariaDB\")\n",
    "        return connection\n",
    "    except Error as e:\n",
    "        print(f\"Error connecting to MariaDB: {e}\")\n",
    "        return None\n",
    "\n",
    "# Create connection\n",
    "connection = create_connection()\n",
    "\n",
    "# Function to execute queries\n",
    "def execute_query(connection, query):\n",
    "    cursor = connection.cursor()\n",
    "    try:\n",
    "        cursor.execute(query)\n",
    "        connection.commit()\n",
    "        print(\"Query executed successfully\")\n",
    "    except Error as e:\n",
    "        print(f\"Error executing query: {e}\")\n",
    "\n",
    "# Create a new database\n",
    "create_db_query = \"CREATE DATABASE IF NOT EXISTS sample_db\"\n",
    "execute_query(connection, create_db_query)\n",
    "\n",
    "# Use the created database\n",
    "connection.cursor().execute(\"USE sample_db\")\n",
    "\n",
    "# Create a sample table\n",
    "create_table_query = \"\"\"\n",
    "CREATE TABLE IF NOT EXISTS employees (\n",
    "    id INT AUTO_INCREMENT PRIMARY KEY,\n",
    "    name VARCHAR(100),\n",
    "    age INT,\n",
    "    salary DECIMAL(10, 2)\n",
    ")\n",
    "\"\"\"\n",
    "execute_query(connection, create_table_query)\n",
    "\n",
    "# Insert sample data\n",
    "insert_data_query = \"\"\"\n",
    "INSERT INTO employees (name, age, salary) VALUES\n",
    "    ('John Doe', 30, 50000.00),\n",
    "    ('Jane Smith', 25, 45000.00),\n",
    "    ('Bob Johnson', 35, 60000.00)\n",
    "\"\"\"\n",
    "execute_query(connection, insert_data_query)\n",
    "\n",
    "# Function to read data using pandas\n",
    "def read_query(connection, query):\n",
    "    try:\n",
    "        return pd.read_sql(query, connection)\n",
    "    except Error as e:\n",
    "        print(f\"Error reading data: {e}\")\n",
    "        return None\n",
    "\n",
    "# Read data from table\n",
    "select_query = \"SELECT * FROM employees\"\n",
    "df = read_query(connection, select_query)\n",
    "print(\"\\nEmployee data:\")\n",
    "display(df)\n",
    "\n",
    "# Update data\n",
    "update_query = \"\"\"\n",
    "UPDATE employees \n",
    "SET salary = 55000.00 \n",
    "WHERE name = 'John Doe'\n",
    "\"\"\"\n",
    "execute_query(connection, update_query)\n",
    "\n",
    "# Read updated data\n",
    "df_updated = read_query(connection, select_query)\n",
    "print(\"\\nUpdated employee data:\")\n",
    "display(df_updated)\n",
    "\n",
    "# Close the connection when done\n",
    "connection.close()\n"
   ]
  },
  {
   "cell_type": "code",
   "execution_count": null,
   "metadata": {},
   "outputs": [],
   "source": []
  }
 ],
 "metadata": {
  "kernelspec": {
   "display_name": "Python 3",
   "language": "python",
   "name": "python3"
  },
  "language_info": {
   "codemirror_mode": {
    "name": "ipython",
    "version": 3
   },
   "file_extension": ".py",
   "mimetype": "text/x-python",
   "name": "python",
   "nbconvert_exporter": "python",
   "pygments_lexer": "ipython3",
   "version": "3.12.7"
  }
 },
 "nbformat": 4,
 "nbformat_minor": 2
}
